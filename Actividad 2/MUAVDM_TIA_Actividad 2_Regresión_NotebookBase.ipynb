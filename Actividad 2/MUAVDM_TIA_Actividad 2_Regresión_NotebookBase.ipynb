{
 "cells": [
  {
   "cell_type": "markdown",
   "id": "de1406ba",
   "metadata": {},
   "source": [
    "<img src=\"https://www.unir.net/wp-content/uploads/2019/11/Unir_2021_logo.svg\" width=\"240\" height=\"240\" align=\"right\"/>"
   ]
  },
  {
   "cell_type": "markdown",
   "id": "8b6f603c",
   "metadata": {},
   "source": [
    "<center><h1>Técnicas de Inteligencia Artificial</header1></center>\n",
    "<left><h1>Actividad 2. Trabajando con redes neuronales y Deep Learning</header1></left>"
   ]
  },
  {
   "cell_type": "markdown",
   "id": "3eb1aaac",
   "metadata": {},
   "source": [
    "Presentado por: Nombres Apellidos  <br>\n",
    "Fecha: DD/MM/2022"
   ]
  },
  {
   "cell_type": "markdown",
   "id": "1dec299b",
   "metadata": {
    "ExecuteTime": {
     "end_time": "2022-03-14T15:14:04.930713Z",
     "start_time": "2022-03-14T15:14:04.921682Z"
    }
   },
   "source": [
    "# Importación de librerias necesarias"
   ]
  },
  {
   "cell_type": "markdown",
   "id": "7e71c67f",
   "metadata": {},
   "source": [
    "# Parte I. Regresión"
   ]
  },
  {
   "cell_type": "code",
   "execution_count": 2,
   "id": "6d1abf7a",
   "metadata": {
    "ExecuteTime": {
     "end_time": "2022-03-14T15:14:46.228059Z",
     "start_time": "2022-03-14T15:14:46.223108Z"
    }
   },
   "outputs": [],
   "source": [
    "#Para esta actividad se importarán las siguientes librerías:\n"
   ]
  },
  {
   "cell_type": "markdown",
   "id": "6a44b924",
   "metadata": {},
   "source": [
    "## Cargar el Dataset\n",
    "\n",
    "Con al menos 1000 instancias, una variable/atributo de la salida, y que dependa de, al menos, 6 variables/atributos de entrada. "
   ]
  },
  {
   "cell_type": "code",
   "execution_count": null,
   "id": "3541e808",
   "metadata": {},
   "outputs": [],
   "source": [
    "#Código para cargar el Dataset\n",
    "#url = 'https://raw.githubusercontent.com/oscar-unir/TIA/main/datasets/car/Laboratorio_dataset_car.csv'\n"
   ]
  },
  {
   "cell_type": "markdown",
   "id": "93c30410",
   "metadata": {},
   "source": [
    "## Descripción de la fuente del Dataset"
   ]
  },
  {
   "cell_type": "markdown",
   "id": "db6174bc",
   "metadata": {},
   "source": [
    "Haga una descripción de la fuente de dayos utilizada (Incluya los enlaces necesarios)."
   ]
  },
  {
   "cell_type": "markdown",
   "id": "7f868eab",
   "metadata": {},
   "source": [
    "## Explique el problema a resolver. \n",
    "Descripción del problema. Tipo de problema (justifique). Variable objetivo, variables de entrada. Utilidad de su posible solución. Elementos adicionales que considere relevantes (no son necesarios contenidos teóricos, sino explicar qué relaciones tratas de comprobar y con qué métodos)."
   ]
  },
  {
   "cell_type": "markdown",
   "id": "a0b719c1",
   "metadata": {},
   "source": [
    "## Caracterización del Dataset\n",
    "\n",
    "Realice una descripción de los datos con:\n",
    "\n",
    ">- Número de instancias en total.\n",
    ">- Número de atributos de entrada, su significado y tipo.\n",
    ">- Estadísticas de la variable objetivo.\n",
    ">- Estadísticas los atributos en relación con la variable objetivo.\n",
    "\n",
    "Se incorporá una pequeña descripción (EDA) del conjunto de datos utilizado. Se analiza el dataset proporcionando, se muestra al menos algunas de sus características mediante tablas y al menos algunas de ellas en modo gráfico (p.ej., histogramas, diagramas de dispersión, diagramas de cajas y bigotes, etc.)\n"
   ]
  },
  {
   "cell_type": "code",
   "execution_count": null,
   "id": "2f0ed5d2",
   "metadata": {},
   "outputs": [],
   "source": [
    "#Código que responde a la descripción anterior"
   ]
  },
  {
   "cell_type": "code",
   "execution_count": null,
   "id": "ad08f162",
   "metadata": {},
   "outputs": [],
   "source": [
    "#Código que responde a la descripción anterior (incorpore las lineas de code necesarias. Describa cadas sentencia de código)"
   ]
  },
  {
   "cell_type": "markdown",
   "id": "a7ab5e48",
   "metadata": {},
   "source": [
    "En un par de párrafos haga un resumen de los principales hallazagos encontrados:    "
   ]
  },
  {
   "cell_type": "markdown",
   "id": "ece5beca",
   "metadata": {
    "ExecuteTime": {
     "end_time": "2022-03-14T15:52:20.156185Z",
     "start_time": "2022-03-14T15:52:20.150187Z"
    }
   },
   "source": [
    "## Preprocesamiento del dataset. Transformaciones previas necesarias para la modelación"
   ]
  },
  {
   "cell_type": "code",
   "execution_count": null,
   "id": "85c9ad88",
   "metadata": {},
   "outputs": [],
   "source": [
    "#Código que realice las transformaciones necesarias para poder realizar los procesos de modelación. Ej.One hot enconding"
   ]
  },
  {
   "cell_type": "markdown",
   "id": "49815fde",
   "metadata": {
    "ExecuteTime": {
     "end_time": "2022-03-14T15:56:34.366469Z",
     "start_time": "2022-03-14T15:56:34.358471Z"
    }
   },
   "source": [
    "## División del dataset en datos de entrenamiento y datos de test "
   ]
  },
  {
   "cell_type": "code",
   "execution_count": null,
   "id": "6f26d21e",
   "metadata": {},
   "outputs": [],
   "source": [
    "#Código que realice la división en entrenamiento y test, de acuerdo con la estretgia de evaluación planeada. Describa cuál es."
   ]
  },
  {
   "cell_type": "markdown",
   "id": "a652d4ba",
   "metadata": {},
   "source": [
    "## Propuesta de arquitectura de red neuronal"
   ]
  },
  {
   "cell_type": "markdown",
   "id": "d4a83252",
   "metadata": {},
   "source": [
    "Describe: \n",
    "\n",
    "+ las neuronas en la capa de entrada \n",
    "+ las capas intermedias – al menos dos – \n",
    "+ capa de salida\n",
    "+ funciones de activación"
   ]
  },
  {
   "cell_type": "code",
   "execution_count": null,
   "id": "6e37be33",
   "metadata": {},
   "outputs": [],
   "source": [
    "# Código de la estructuración de la red"
   ]
  },
  {
   "cell_type": "code",
   "execution_count": null,
   "id": "59f9f777",
   "metadata": {},
   "outputs": [],
   "source": [
    "#Código de la inspección del modelo de red"
   ]
  },
  {
   "cell_type": "markdown",
   "id": "ea9ce204",
   "metadata": {},
   "source": [
    "##  Ajuste de modelo de Regresión RNA"
   ]
  },
  {
   "cell_type": "markdown",
   "id": "431b3d70",
   "metadata": {},
   "source": [
    "Mediante Python y utilizando al menos Keras sobre TensorFlow 2.0 (tensorflow.keras), entrena el modelo o modelos de red neuronal escogidos."
   ]
  },
  {
   "cell_type": "code",
   "execution_count": null,
   "id": "bbddc873",
   "metadata": {},
   "outputs": [],
   "source": [
    "#Código de ajuste y entrenamiento"
   ]
  },
  {
   "cell_type": "markdown",
   "id": "aa4b8461",
   "metadata": {},
   "source": [
    "## Evaluación de modelo RNA\n",
    "\n",
    "Defina las estadísticas (métricas) de evaluación, y dividiendo el dataset en datos de entrenamiento, validación y datos de test prueba tu propuesta.\n"
   ]
  },
  {
   "cell_type": "markdown",
   "id": "7c6f1b82",
   "metadata": {},
   "source": [
    "### Visualice el progreso de entrenamiento del modelo y muestre las estadísticas de evaluación para los conjuntos de entrenamiento y validación.  "
   ]
  },
  {
   "cell_type": "code",
   "execution_count": null,
   "id": "75f08942",
   "metadata": {},
   "outputs": [],
   "source": [
    "#Código de evaluación de la red propuesta (entrenamiento y validación)"
   ]
  },
  {
   "cell_type": "markdown",
   "id": "eda5b77c",
   "metadata": {},
   "source": [
    "### Evalúe los resultados  para el conjunto de test."
   ]
  },
  {
   "cell_type": "code",
   "execution_count": 2,
   "id": "15926cb4",
   "metadata": {
    "ExecuteTime": {
     "end_time": "2022-04-25T07:15:41.472314Z",
     "start_time": "2022-04-25T07:15:41.465313Z"
    }
   },
   "outputs": [],
   "source": [
    "#Código de evaluación de la red propuesta (evaluación conjunto de test)"
   ]
  },
  {
   "cell_type": "markdown",
   "id": "6319adad",
   "metadata": {},
   "source": [
    "## Ajuste de modelos de Regresión alternativos"
   ]
  },
  {
   "cell_type": "markdown",
   "id": "d552bc64",
   "metadata": {},
   "source": [
    "Elige al menos un método de regresión no basado en redes neuronales (p.ej. regresión lineal, regresión polinómica, regresión logarítmica, SVR, random forest regression, etc.)."
   ]
  },
  {
   "cell_type": "code",
   "execution_count": null,
   "id": "d5d2b2c6",
   "metadata": {},
   "outputs": [],
   "source": [
    "#Código de ajuste del modelo 1"
   ]
  },
  {
   "cell_type": "code",
   "execution_count": 3,
   "id": "33f5be2a",
   "metadata": {
    "ExecuteTime": {
     "end_time": "2022-04-25T07:21:39.020596Z",
     "start_time": "2022-04-25T07:21:39.005596Z"
    }
   },
   "outputs": [],
   "source": [
    "#Código de ajuste del modelo 2"
   ]
  },
  {
   "cell_type": "code",
   "execution_count": null,
   "id": "a2e675b3",
   "metadata": {},
   "outputs": [],
   "source": [
    "#Código para mostrar la evaluación de los modelos"
   ]
  },
  {
   "cell_type": "markdown",
   "id": "ad219a0c",
   "metadata": {},
   "source": [
    "Construya un o dos párrafos con los principales hallazgos. Incluye una explicación de los parámetros que consideres relevantes en cada ejecución."
   ]
  },
  {
   "cell_type": "markdown",
   "id": "44df4eb5",
   "metadata": {},
   "source": [
    "## Comparación del desempeño de modelos\n",
    "\n",
    "Muestra los resultados obtenidos por los diferentes algoritmos escogidos de forma gráfica y comparada/superpuesta."
   ]
  },
  {
   "cell_type": "code",
   "execution_count": null,
   "id": "fe4acd93",
   "metadata": {},
   "outputs": [],
   "source": [
    "#Código para mostrar la comparación de métricas de desempeño de las dos propuestas en tabla"
   ]
  },
  {
   "cell_type": "code",
   "execution_count": null,
   "id": "1b644946",
   "metadata": {},
   "outputs": [],
   "source": [
    "#Código para mostrar la comparación de métricas de desempeño de las dos propuestas en gráfica"
   ]
  },
  {
   "cell_type": "markdown",
   "id": "f11d5ab4",
   "metadata": {},
   "source": [
    "Construya un párrafo con los principales hallazgos."
   ]
  },
  {
   "cell_type": "markdown",
   "id": "f810fb47",
   "metadata": {
    "ExecuteTime": {
     "end_time": "2022-03-14T16:16:57.134093Z",
     "start_time": "2022-03-14T16:16:57.117129Z"
    }
   },
   "source": [
    "## Discusión de los resultados obtenidos y argumentos sobre cómo se podrían mejorar de dichos resultados"
   ]
  },
  {
   "cell_type": "markdown",
   "id": "c74b3044",
   "metadata": {},
   "source": [
    "Realice en este espacio todo el análsis de resultados final incluyendo: \n",
    "+ Resultados comparados. Conclusiones objetivas y significantes con base a las diferentes métricas escogidas. \n",
    "+ Argumentos que describan con qué técnica se obtienen mejores resultados en base a las diferentes métricas que hayas escogido\n",
    "+ Explicación de cómo se podrían mejorar los resultados obtenidos por las redes neuronales, independientemente de que mejoren o no a los algoritmos no basados en redes neuronales."
   ]
  }
 ],
 "metadata": {
  "kernelspec": {
   "display_name": "Python 3 (ipykernel)",
   "language": "python",
   "name": "python3"
  },
  "language_info": {
   "codemirror_mode": {
    "name": "ipython",
    "version": 3
   },
   "file_extension": ".py",
   "mimetype": "text/x-python",
   "name": "python",
   "nbconvert_exporter": "python",
   "pygments_lexer": "ipython3",
   "version": "3.8.8"
  },
  "toc": {
   "base_numbering": 1,
   "nav_menu": {},
   "number_sections": true,
   "sideBar": true,
   "skip_h1_title": true,
   "title_cell": "Tabla de Contenido",
   "title_sidebar": "Contenido",
   "toc_cell": false,
   "toc_position": {
    "height": "calc(100% - 180px)",
    "left": "10px",
    "top": "150px",
    "width": "263.591px"
   },
   "toc_section_display": true,
   "toc_window_display": true
  }
 },
 "nbformat": 4,
 "nbformat_minor": 5
}
